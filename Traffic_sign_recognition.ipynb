{
  "nbformat": 4,
  "nbformat_minor": 0,
  "metadata": {
    "colab": {
      "name": "Traffic_sign_recognition.ipynb",
      "provenance": [],
      "collapsed_sections": [],
      "authorship_tag": "ABX9TyOg3sJbOQHa/KKw1KJuQGd0",
      "include_colab_link": true
    },
    "kernelspec": {
      "name": "python3",
      "display_name": "Python 3"
    },
    "accelerator": "GPU"
  },
  "cells": [
    {
      "cell_type": "markdown",
      "metadata": {
        "id": "view-in-github",
        "colab_type": "text"
      },
      "source": [
        "<a href=\"https://colab.research.google.com/github/naveen333nav/LabWorkRepo/blob/master/Traffic_sign_recognition.ipynb\" target=\"_parent\"><img src=\"https://colab.research.google.com/assets/colab-badge.svg\" alt=\"Open In Colab\"/></a>"
      ]
    },
    {
      "cell_type": "code",
      "metadata": {
        "id": "jt1aRh433fEZ",
        "colab_type": "code",
        "outputId": "6c9193f2-6af9-4696-a573-3ee1424e335a",
        "colab": {
          "base_uri": "https://localhost:8080/",
          "height": 34
        }
      },
      "source": [
        "%tensorflow_version 2.x\n",
        "import tensorflow as tf\n"
      ],
      "execution_count": 0,
      "outputs": [
        {
          "output_type": "stream",
          "text": [
            "TensorFlow 2.x selected.\n"
          ],
          "name": "stdout"
        }
      ]
    },
    {
      "cell_type": "code",
      "metadata": {
        "id": "HAdVrrueSod6",
        "colab_type": "code",
        "colab": {}
      },
      "source": [
        "import matplotlib\n",
        "%matplotlib inline\n",
        "# import mpld3\n",
        "# mpld3.enable_notebook()"
      ],
      "execution_count": 0,
      "outputs": []
    },
    {
      "cell_type": "code",
      "metadata": {
        "id": "5o3wJpFH4zfV",
        "colab_type": "code",
        "colab": {}
      },
      "source": [
        "from tensorflow.keras.models import Sequential\n",
        "from tensorflow.keras.layers import BatchNormalization\n",
        "from tensorflow.keras.layers import Conv2D,MaxPooling2D\n",
        "from tensorflow.keras.layers import Activation,Flatten,Dropout,Dense"
      ],
      "execution_count": 0,
      "outputs": []
    },
    {
      "cell_type": "code",
      "metadata": {
        "id": "jYvjupRUiuYH",
        "colab_type": "code",
        "outputId": "2c20af2c-8dad-450a-c4a5-2345178e11b3",
        "colab": {
          "base_uri": "https://localhost:8080/",
          "height": 84
        }
      },
      "source": [
        "!pip install pyyaml h5py"
      ],
      "execution_count": 0,
      "outputs": [
        {
          "output_type": "stream",
          "text": [
            "Requirement already satisfied: pyyaml in /usr/local/lib/python3.6/dist-packages (3.13)\n",
            "Requirement already satisfied: h5py in /tensorflow-2.1.0/python3.6 (2.10.0)\n",
            "Requirement already satisfied: six in /tensorflow-2.1.0/python3.6 (from h5py) (1.14.0)\n",
            "Requirement already satisfied: numpy>=1.7 in /tensorflow-2.1.0/python3.6 (from h5py) (1.18.1)\n"
          ],
          "name": "stdout"
        }
      ]
    },
    {
      "cell_type": "code",
      "metadata": {
        "id": "uNjxyN6r5ByX",
        "colab_type": "code",
        "colab": {}
      },
      "source": [
        "from tensorflow.keras.preprocessing.image import ImageDataGenerator\n",
        "from tensorflow.keras.optimizers import Adam\n",
        "from tensorflow.keras.utils import to_categorical\n",
        "from sklearn.metrics import classification_report\n",
        "from skimage import transform\n",
        "from skimage import exposure\n",
        "from skimage import io\n",
        "from sklearn.utils import shuffle\n",
        "import matplotlib.pyplot as plt\n",
        "import numpy as np\n",
        "import argparse\n",
        "import random\n",
        "import os\n"
      ],
      "execution_count": 0,
      "outputs": []
    },
    {
      "cell_type": "code",
      "metadata": {
        "id": "HbhM-MhdnzoX",
        "colab_type": "code",
        "outputId": "6be1a80f-77a8-4deb-e9f4-075951f7012d",
        "colab": {
          "base_uri": "https://localhost:8080/",
          "height": 255
        }
      },
      "source": [
        "# To check whether gpu allotted to you is not shared by others\n",
        "#IF USED:0 MB  then all set to go\n",
        "#else kill processes that using gpu by \"!kill -9 -1\" command  \n",
        "\n",
        "# memory footprint support libraries/code\n",
        "!ln -sf /opt/bin/nvidia-smi /usr/bin/nvidia-smi\n",
        "!pip install gputil\n",
        "!pip install psutil\n",
        "!pip install humanize\n",
        "import psutil\n",
        "import humanize\n",
        "import os\n",
        "import GPUtil as GPU\n",
        "GPUs = GPU.getGPUs()\n",
        "# XXX: only one GPU on Colab and isn’t guaranteed\n",
        "gpu = GPUs[0]\n",
        "def printm():\n",
        " process = psutil.Process(os.getpid())\n",
        " print(\"Gen RAM Free: \" + humanize.naturalsize( psutil.virtual_memory().available ), \" | Proc size: \" + humanize.naturalsize( process.memory_info().rss))\n",
        " print(\"GPU RAM Free: {0:.0f}MB | Used: {1:.0f}MB | Util {2:3.0f}% | Total {3:.0f}MB\".format(gpu.memoryFree, gpu.memoryUsed, gpu.memoryUtil*100, gpu.memoryTotal))\n",
        "printm() \n",
        "\n",
        "\n",
        "\n",
        "#!kill -9 -1          # for  used > 0 mb "
      ],
      "execution_count": 0,
      "outputs": [
        {
          "output_type": "stream",
          "text": [
            "Collecting gputil\n",
            "  Downloading https://files.pythonhosted.org/packages/ed/0e/5c61eedde9f6c87713e89d794f01e378cfd9565847d4576fa627d758c554/GPUtil-1.4.0.tar.gz\n",
            "Building wheels for collected packages: gputil\n",
            "  Building wheel for gputil (setup.py) ... \u001b[?25l\u001b[?25hdone\n",
            "  Created wheel for gputil: filename=GPUtil-1.4.0-cp36-none-any.whl size=7413 sha256=bfc197f01b354e27b9368f8b2fcaefb5c87afe14b78bf12159a5f252cb114a2a\n",
            "  Stored in directory: /root/.cache/pip/wheels/3d/77/07/80562de4bb0786e5ea186911a2c831fdd0018bda69beab71fd\n",
            "Successfully built gputil\n",
            "Installing collected packages: gputil\n",
            "Successfully installed gputil-1.4.0\n",
            "Requirement already satisfied: psutil in /usr/local/lib/python3.6/dist-packages (5.4.8)\n",
            "Requirement already satisfied: humanize in /usr/local/lib/python3.6/dist-packages (0.5.1)\n",
            "Gen RAM Free: 11.9 GB  | Proc size: 6.6 GB\n",
            "GPU RAM Free: 7082MB | Used: 529MB | Util   7% | Total 7611MB\n"
          ],
          "name": "stdout"
        }
      ]
    },
    {
      "cell_type": "code",
      "metadata": {
        "id": "s-hfjJ-TcIK5",
        "colab_type": "code",
        "colab": {}
      },
      "source": [
        "\n",
        "# !wget \"https://sid.erda.dk/public/archives/daaeac0d7ce1152aea9b61d9f1e19370/GTSRB_Final_Training_Images.zip\"\n",
        "#!unzip -q GTSRB_Final_Training_Images.zip\n",
        "#!ls /content/GTSRB/Final_Training/Images > train_folders.txt"
      ],
      "execution_count": 0,
      "outputs": []
    },
    {
      "cell_type": "code",
      "metadata": {
        "id": "q9dTtLZ6pGRU",
        "colab_type": "code",
        "outputId": "6df54ea6-0078-41c9-a0b7-0560bbac3107",
        "colab": {
          "resources": {
            "http://localhost:8080/nbextensions/google.colab/files.js": {
              "data": "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",
              "ok": true,
              "headers": [
                [
                  "content-type",
                  "application/javascript"
                ]
              ],
              "status": 200,
              "status_text": ""
            }
          },
          "base_uri": "https://localhost:8080/",
          "height": 74
        }
      },
      "source": [
        "# # load the label names\n",
        "# from google.colab import files\n",
        "# files.upload()\n",
        "labelNames = open(\"signnames.csv\").read().strip().split(\"\\n\")[1:]\n",
        "labelNames = [l.split(\",\")[1] for l in labelNames]"
      ],
      "execution_count": 0,
      "outputs": [
        {
          "output_type": "display_data",
          "data": {
            "text/html": [
              "\n",
              "     <input type=\"file\" id=\"files-ba1f01b4-6a2c-48cd-a1fb-e7e1804cec00\" name=\"files[]\" multiple disabled />\n",
              "     <output id=\"result-ba1f01b4-6a2c-48cd-a1fb-e7e1804cec00\">\n",
              "      Upload widget is only available when the cell has been executed in the\n",
              "      current browser session. Please rerun this cell to enable.\n",
              "      </output>\n",
              "      <script src=\"/nbextensions/google.colab/files.js\"></script> "
            ],
            "text/plain": [
              "<IPython.core.display.HTML object>"
            ]
          },
          "metadata": {
            "tags": []
          }
        },
        {
          "output_type": "stream",
          "text": [
            "Saving signnames.csv to signnames.csv\n"
          ],
          "name": "stdout"
        }
      ]
    },
    {
      "cell_type": "code",
      "metadata": {
        "id": "faVTdWWea1-V",
        "colab_type": "code",
        "colab": {}
      },
      "source": [
        "def load_split(basepath,train_folder_list):\n",
        "    train_data = []\n",
        "    label_data = []\n",
        "\n",
        "    for i in train_folder_list:\n",
        "        train_path = os.path.sep.join([basepath,i,\"GT-\"+i+\".csv\"])\n",
        "        rows = open(train_path).read().strip().split(\"\\n\")[1:]\n",
        "        \n",
        "\n",
        "        # loop over the rows of the CSV file\n",
        "        for (j, row) in enumerate(rows):\n",
        "          # check to see if we should show a status update\n",
        "          if j > 0 and j % 1000 == 0:\n",
        "            print(\"[INFO] processed {} total images\".format(i))\n",
        "\n",
        "          # split the row into components and then grab the class ID\n",
        "          # and image path\n",
        "         \n",
        "          label_data.append(int(row.strip().split(\";\")[-1]))\n",
        "          imagePath1 = row.strip().split(\";\")[0]\n",
        "\n",
        "\n",
        "          # derive the full path to the image file and load it\n",
        "          imagePath = os.path.sep.join([basepath,i,imagePath1])\n",
        "          image = io.imread(imagePath)\n",
        "\n",
        "          # resize the image to be 32x32 pixels, ignoring aspect ratio,\n",
        "          # and then perform Contrast Limited Adaptive Histogram\n",
        "          # Equalization (CLAHE)\n",
        "          image = transform.resize(image, (32, 32))\n",
        "          image = exposure.equalize_adapthist(image, clip_limit=0.1)\n",
        "\n",
        "          # update the list of data and labels, respectively\n",
        "          train_data.append(image)\n",
        "          \n",
        "\n",
        "        # convert the data and labels to NumPy arrays\n",
        "    data = np.array(train_data)\n",
        "    labels = np.array(label_data)\n",
        "\n",
        "    # return a tuple of the data and labels\n",
        "    return (data, labels)\n"
      ],
      "execution_count": 0,
      "outputs": []
    },
    {
      "cell_type": "code",
      "metadata": {
        "id": "o9YjoKrpa3er",
        "colab_type": "code",
        "colab": {}
      },
      "source": [
        "\n",
        "train_folder_names=[]\n",
        "with open(\"/content/train_folders.txt\") as file:\n",
        "  string = file.read()\n",
        "  list1=string.strip().split(\"\\n\")\n",
        "\n",
        "\n",
        "  \n",
        "print(train_folder_names)\n",
        "X_data,Y_data = load_split('/content/GTSRB/Final_Training/Images',train_folder_names)\n",
        "\n",
        "X_data,Y_data = shuffle(X_data,Y_data)\n",
        "X_data,Y_data = shuffle(X_data,Y_data)\n",
        "\n",
        "#30% for validation\n",
        "X_train,y_train = X_data[:int(len(X_data)*0.70)],Y_data[:int(len(Y_data)*0.70)]\n",
        "X_valid,y_valid  =  X_data[int(len(X_data)*0.70):],Y_data[int(len(Y_data)*0.70):]\n",
        "\n"
      ],
      "execution_count": 0,
      "outputs": []
    },
    {
      "cell_type": "code",
      "metadata": {
        "id": "WnfYll09cQSX",
        "colab_type": "code",
        "colab": {}
      },
      "source": [
        "class TrafficSignNet:\n",
        "  @staticmethod\n",
        "  def build(width,height,depth,classes):\n",
        "      # initialize the model along with the input shape to be\n",
        "      # \"channels last\" and the channels dimension itself\n",
        "      model = Sequential()\n",
        "      inputShape = (height, width, depth)\n",
        "      chanDim = -1\n",
        "\n",
        "      # CONV => RELU => BN => POOL\n",
        "      model.add(Conv2D(8, (5, 5), padding=\"same\",\n",
        "        input_shape=inputShape))\n",
        "      model.add(Activation(\"relu\"))\n",
        "      model.add(BatchNormalization(axis=chanDim))\n",
        "      model.add(MaxPooling2D(pool_size=(2, 2)))\n",
        "\n",
        "      # first set of (CONV => RELU => CONV => RELU) * 2 => POOL\n",
        "      model.add(Conv2D(16, (3, 3), padding=\"same\"))\n",
        "      model.add(Activation(\"relu\"))\n",
        "      model.add(BatchNormalization(axis=chanDim))\n",
        "      model.add(Conv2D(16, (3, 3), padding=\"same\"))\n",
        "      model.add(Activation(\"relu\"))\n",
        "      model.add(BatchNormalization(axis=chanDim))\n",
        "      model.add(MaxPooling2D(pool_size=(2, 2)))\n",
        "\n",
        "      # second set of (CONV => RELU => CONV => RELU) * 2 => POOL\n",
        "      model.add(Conv2D(32, (3, 3), padding=\"same\"))\n",
        "      model.add(Activation(\"relu\"))\n",
        "      model.add(BatchNormalization(axis=chanDim))\n",
        "      model.add(Conv2D(32, (3, 3), padding=\"same\"))\n",
        "      model.add(Activation(\"relu\"))\n",
        "      model.add(BatchNormalization(axis=chanDim))\n",
        "      model.add(MaxPooling2D(pool_size=(2, 2)))\n",
        "\n",
        "      # first set of FC => RELU layers\n",
        "      model.add(Flatten())\n",
        "      model.add(Dense(128))\n",
        "      model.add(Activation(\"relu\"))\n",
        "      model.add(BatchNormalization())\n",
        "      model.add(Dropout(0.5))\n",
        "\n",
        "      # second set of FC => RELU layers\n",
        "      model.add(Flatten())\n",
        "      model.add(Dense(128))\n",
        "      model.add(Activation(\"relu\"))\n",
        "      model.add(BatchNormalization())\n",
        "      model.add(Dropout(0.5))\n",
        "\n",
        "      # softmax classifier\n",
        "      model.add(Dense(classes))\n",
        "      model.add(Activation(\"softmax\"))\n",
        "\n",
        "      # return the constructed network architecture\n",
        "      return model"
      ],
      "execution_count": 0,
      "outputs": []
    },
    {
      "cell_type": "code",
      "metadata": {
        "id": "T_XiRu2a4r9T",
        "colab_type": "code",
        "outputId": "52bf9598-3338-4aa0-ebba-c7550a5b5065",
        "colab": {
          "base_uri": "https://localhost:8080/",
          "height": 1000
        }
      },
      "source": [
        "# initialize the number of epochs to train for, base learning rate,\n",
        "# and batch size\n",
        "NUM_EPOCHS = 30\n",
        "INIT_LR = 1e-3\n",
        "BS = 64\n",
        "\n",
        "\n",
        "# scale data to the range of [0, 1]\n",
        "X_train = X_train.astype(\"float32\") / 255.0\n",
        "X_valid = X_valid.astype(\"float32\") / 255.0\n",
        "\n",
        "# one-hot encode the training and testing labels\n",
        "numLabels = len(np.unique(y_train))\n",
        "y_train = to_categorical(y_train, numLabels)\n",
        "y_valid1 = to_categorical(y_valid, numLabels)\n",
        "# account for skew in the labeled data\n",
        "classTotals = y_train.sum(axis=0)\n",
        "classWeight = classTotals.max() / classTotals\n",
        "\n",
        "# construct the image generator for data augmentation\n",
        "aug = ImageDataGenerator(\n",
        "\trotation_range=10,\n",
        "\tzoom_range=0.15,\n",
        "\twidth_shift_range=0.1,\n",
        "\theight_shift_range=0.1,\n",
        "\tshear_range=0.15,\n",
        "\thorizontal_flip=False,\n",
        "\tvertical_flip=False,\n",
        "\tfill_mode=\"nearest\")\n",
        "\n",
        "# initialize the optimizer and model\n",
        "print(\"[INFO] compiling model...\")\n",
        "opt = Adam(lr=INIT_LR, decay=INIT_LR / (NUM_EPOCHS * 0.5))\n",
        "model = TrafficSignNet.build(width=32, height=32, depth=3,\n",
        "\tclasses=numLabels)\n",
        "model.compile(loss=\"categorical_crossentropy\", optimizer=opt,\n",
        "\tmetrics=[\"accuracy\"])\n",
        "\n",
        "# compile the model and train the network\n",
        "print(\"[INFO] training network...\")\n",
        "H = model.fit_generator(\n",
        "\taug.flow(X_train,y_train, batch_size=BS),\n",
        "\tvalidation_data=(X_valid, y_valid1),\n",
        "\tsteps_per_epoch=X_train.shape[0] // BS,\n",
        "\tepochs=NUM_EPOCHS,\n",
        "\tclass_weight=classWeight,\n",
        "\tverbose=1)\n",
        "\n",
        "\n"
      ],
      "execution_count": 0,
      "outputs": [
        {
          "output_type": "stream",
          "text": [
            "[INFO] compiling model...\n",
            "[INFO] training network...\n",
            "WARNING:tensorflow:sample_weight modes were coerced from\n",
            "  ...\n",
            "    to  \n",
            "  ['...']\n",
            "Train for 428 steps, validate on 11763 samples\n",
            "Epoch 1/30\n",
            "428/428 [==============================] - 21s 49ms/step - loss: 3.1369 - accuracy: 0.2201 - val_loss: 5.6371 - val_accuracy: 0.0549\n",
            "Epoch 2/30\n",
            "428/428 [==============================] - 14s 32ms/step - loss: 1.7371 - accuracy: 0.4630 - val_loss: 1.1178 - val_accuracy: 0.6240\n",
            "Epoch 3/30\n",
            "428/428 [==============================] - 14s 32ms/step - loss: 1.2863 - accuracy: 0.5857 - val_loss: 0.7443 - val_accuracy: 0.7379\n",
            "Epoch 4/30\n",
            "428/428 [==============================] - 14s 32ms/step - loss: 0.9907 - accuracy: 0.6746 - val_loss: 0.6958 - val_accuracy: 0.7523\n",
            "Epoch 5/30\n",
            "428/428 [==============================] - 14s 32ms/step - loss: 0.7991 - accuracy: 0.7368 - val_loss: 0.4489 - val_accuracy: 0.8435\n",
            "Epoch 6/30\n",
            "428/428 [==============================] - 14s 32ms/step - loss: 0.6651 - accuracy: 0.7819 - val_loss: 0.4461 - val_accuracy: 0.8420\n",
            "Epoch 7/30\n",
            "428/428 [==============================] - 14s 32ms/step - loss: 0.5759 - accuracy: 0.8118 - val_loss: 0.2530 - val_accuracy: 0.9222\n",
            "Epoch 8/30\n",
            "428/428 [==============================] - 14s 32ms/step - loss: 0.5013 - accuracy: 0.8391 - val_loss: 0.5563 - val_accuracy: 0.8124\n",
            "Epoch 9/30\n",
            "428/428 [==============================] - 14s 32ms/step - loss: 0.4384 - accuracy: 0.8589 - val_loss: 0.2740 - val_accuracy: 0.9056\n",
            "Epoch 10/30\n",
            "428/428 [==============================] - 13s 32ms/step - loss: 0.4038 - accuracy: 0.8707 - val_loss: 0.2175 - val_accuracy: 0.9275\n",
            "Epoch 11/30\n",
            "428/428 [==============================] - 14s 32ms/step - loss: 0.3623 - accuracy: 0.8830 - val_loss: 0.2121 - val_accuracy: 0.9304\n",
            "Epoch 12/30\n",
            "428/428 [==============================] - 14s 32ms/step - loss: 0.3508 - accuracy: 0.8883 - val_loss: 0.2022 - val_accuracy: 0.9302\n",
            "Epoch 13/30\n",
            "428/428 [==============================] - 14s 32ms/step - loss: 0.3099 - accuracy: 0.9013 - val_loss: 0.1091 - val_accuracy: 0.9624\n",
            "Epoch 14/30\n",
            "428/428 [==============================] - 14s 32ms/step - loss: 0.2898 - accuracy: 0.9067 - val_loss: 0.1162 - val_accuracy: 0.9606\n",
            "Epoch 15/30\n",
            "428/428 [==============================] - 14s 32ms/step - loss: 0.2793 - accuracy: 0.9111 - val_loss: 0.0919 - val_accuracy: 0.9697\n",
            "Epoch 16/30\n",
            "428/428 [==============================] - 14s 33ms/step - loss: 0.2643 - accuracy: 0.9167 - val_loss: 0.1086 - val_accuracy: 0.9640\n",
            "Epoch 17/30\n",
            "428/428 [==============================] - 14s 33ms/step - loss: 0.2516 - accuracy: 0.9206 - val_loss: 0.1376 - val_accuracy: 0.9528\n",
            "Epoch 18/30\n",
            "428/428 [==============================] - 14s 32ms/step - loss: 0.2419 - accuracy: 0.9228 - val_loss: 0.1299 - val_accuracy: 0.9566\n",
            "Epoch 19/30\n",
            "428/428 [==============================] - 14s 32ms/step - loss: 0.2392 - accuracy: 0.9249 - val_loss: 0.1617 - val_accuracy: 0.9457\n",
            "Epoch 20/30\n",
            "428/428 [==============================] - 14s 32ms/step - loss: 0.2207 - accuracy: 0.9308 - val_loss: 0.0866 - val_accuracy: 0.9707\n",
            "Epoch 21/30\n",
            "428/428 [==============================] - 14s 32ms/step - loss: 0.2128 - accuracy: 0.9317 - val_loss: 0.1313 - val_accuracy: 0.9559\n",
            "Epoch 22/30\n",
            "428/428 [==============================] - 14s 32ms/step - loss: 0.1987 - accuracy: 0.9363 - val_loss: 0.1708 - val_accuracy: 0.9427\n",
            "Epoch 23/30\n",
            "428/428 [==============================] - 14s 32ms/step - loss: 0.1994 - accuracy: 0.9366 - val_loss: 0.1795 - val_accuracy: 0.9433\n",
            "Epoch 24/30\n",
            "428/428 [==============================] - 14s 32ms/step - loss: 0.1891 - accuracy: 0.9389 - val_loss: 0.1337 - val_accuracy: 0.9567\n",
            "Epoch 25/30\n",
            "428/428 [==============================] - 14s 32ms/step - loss: 0.1854 - accuracy: 0.9431 - val_loss: 0.3522 - val_accuracy: 0.8974\n",
            "Epoch 26/30\n",
            "428/428 [==============================] - 14s 32ms/step - loss: 0.1864 - accuracy: 0.9422 - val_loss: 0.1252 - val_accuracy: 0.9588\n",
            "Epoch 27/30\n",
            "428/428 [==============================] - 13s 31ms/step - loss: 0.1689 - accuracy: 0.9467 - val_loss: 0.0600 - val_accuracy: 0.9800\n",
            "Epoch 28/30\n",
            "428/428 [==============================] - 14s 32ms/step - loss: 0.1706 - accuracy: 0.9481 - val_loss: 1.0071 - val_accuracy: 0.7641\n",
            "Epoch 29/30\n",
            "428/428 [==============================] - 14s 32ms/step - loss: 0.1652 - accuracy: 0.9469 - val_loss: 0.0624 - val_accuracy: 0.9787\n",
            "Epoch 30/30\n",
            "428/428 [==============================] - 15s 34ms/step - loss: 0.1558 - accuracy: 0.9504 - val_loss: 0.1233 - val_accuracy: 0.9623\n"
          ],
          "name": "stdout"
        }
      ]
    },
    {
      "cell_type": "code",
      "metadata": {
        "id": "5GKqKVAcnemX",
        "colab_type": "code",
        "outputId": "eb97be9e-ce7f-4b15-de2c-3dd4e4b2bb7f",
        "colab": {
          "base_uri": "https://localhost:8080/",
          "height": 991
        }
      },
      "source": [
        "# # evaluate the network\n",
        "from sklearn.metrics import confusion_matrix\n",
        "\n",
        "print(\"[INFO] evaluating network...\")\n",
        "predictions = model.predict(X_valid, batch_size=BS)\n",
        "print(classification_report(y_valid,\n",
        "\tpredictions.argmax(axis=1), target_names=labelNames))\n",
        "\n",
        "confusion_matrix(y_test,np.argmax(predictions,axis=1))\n",
        "\n",
        "\n",
        "\n",
        "\n"
      ],
      "execution_count": 0,
      "outputs": [
        {
          "output_type": "stream",
          "text": [
            "[INFO] evaluating network...\n",
            "                                                    precision    recall  f1-score   support\n",
            "\n",
            "                              Speed limit (20km/h)       0.88      0.97      0.92        66\n",
            "                              Speed limit (30km/h)       0.98      0.96      0.97       652\n",
            "                              Speed limit (50km/h)       0.86      1.00      0.92       686\n",
            "                              Speed limit (60km/h)       0.96      0.94      0.95       443\n",
            "                              Speed limit (70km/h)       0.97      0.99      0.98       635\n",
            "                              Speed limit (80km/h)       0.98      0.84      0.90       514\n",
            "                       End of speed limit (80km/h)       1.00      0.98      0.99       120\n",
            "                             Speed limit (100km/h)       0.98      0.86      0.92       428\n",
            "                             Speed limit (120km/h)       0.95      0.93      0.94       408\n",
            "                                        No passing       0.90      1.00      0.95       412\n",
            "      No passing for vehicles over 3.5 metric tons       0.99      0.98      0.99       575\n",
            "             Right-of-way at the next intersection       0.98      1.00      0.99       386\n",
            "                                     Priority road       0.97      1.00      0.99       646\n",
            "                                             Yield       0.97      1.00      0.99       628\n",
            "                                              Stop       1.00      0.98      0.99       247\n",
            "                                       No vehicles       0.94      0.97      0.96       191\n",
            "          Vehicles over 3.5 metric tons prohibited       0.96      0.88      0.91       129\n",
            "                                          No entry       1.00      0.99      1.00       346\n",
            "                                   General caution       0.96      0.99      0.98       348\n",
            "                       Dangerous curve to the left       0.94      0.99      0.96        67\n",
            "                      Dangerous curve to the right       0.94      0.98      0.96       108\n",
            "                                      Double curve       1.00      0.83      0.91       107\n",
            "                                        Bumpy road       0.97      1.00      0.99       116\n",
            "                                     Slippery road       0.93      0.98      0.95       161\n",
            "                         Road narrows on the right       1.00      0.98      0.99        88\n",
            "                                         Road work       0.99      0.99      0.99       432\n",
            "                                   Traffic signals       0.93      0.96      0.94       195\n",
            "                                       Pedestrians       0.98      0.79      0.88        81\n",
            "                                 Children crossing       0.98      0.95      0.97       171\n",
            "                                 Bicycles crossing       0.99      0.93      0.96        84\n",
            "                                Beware of ice/snow       1.00      0.90      0.95       117\n",
            "                             Wild animals crossing       0.95      1.00      0.97       214\n",
            "               End of all speed and passing limits       0.82      1.00      0.90        74\n",
            "                                  Turn right ahead       0.99      0.94      0.96       218\n",
            "                                   Turn left ahead       0.95      0.99      0.97       124\n",
            "                                        Ahead only       0.99      0.98      0.99       374\n",
            "                              Go straight or right       0.97      0.93      0.95       123\n",
            "                               Go straight or left       1.00      0.97      0.98        67\n",
            "                                        Keep right       1.00      0.99      0.99       635\n",
            "                                         Keep left       1.00      0.94      0.97        88\n",
            "                              Roundabout mandatory       0.99      0.70      0.82       108\n",
            "                                 End of no passing       0.90      0.94      0.92        78\n",
            "End of no passing by vehicles over 3.5 metric tons       0.94      0.88      0.91        73\n",
            "\n",
            "                                          accuracy                           0.96     11763\n",
            "                                         macro avg       0.96      0.95      0.95     11763\n",
            "                                      weighted avg       0.96      0.96      0.96     11763\n",
            "\n"
          ],
          "name": "stdout"
        },
        {
          "output_type": "execute_result",
          "data": {
            "text/plain": [
              "array([[ 64,   2,   0, ...,   0,   0,   0],\n",
              "       [  7, 629,  10, ...,   0,   0,   0],\n",
              "       [  0,   0, 684, ...,   0,   0,   0],\n",
              "       ...,\n",
              "       [  1,   0,   0, ...,  76,   2,   3],\n",
              "       [  0,   0,   0, ...,   0,  73,   0],\n",
              "       [  0,   0,   0, ...,   0,   6,  64]])"
            ]
          },
          "metadata": {
            "tags": []
          },
          "execution_count": 37
        }
      ]
    },
    {
      "cell_type": "code",
      "metadata": {
        "id": "U4kjZ6U15rAw",
        "colab_type": "code",
        "outputId": "cc2e261d-469b-4ff9-f491-8893f986fe11",
        "colab": {
          "base_uri": "https://localhost:8080/",
          "height": 316
        }
      },
      "source": [
        "\n",
        "\n",
        "\n",
        "model.save(\"traffic_recog.h5\")\n",
        "\n",
        "# plot the training loss and accuracy\n",
        "N = np.arange(0, NUM_EPOCHS)\n",
        "plt.style.use(\"ggplot\")\n",
        "plt.figure()\n",
        "plt.plot(N, H.history[\"loss\"], label=\"train_loss\")\n",
        "plt.plot(N, H.history[\"val_loss\"], label=\"val_loss\")\n",
        "plt.plot(N, H.history[\"accuracy\"], label=\"train_acc\")\n",
        "plt.plot(N, H.history[\"val_accuracy\"], label=\"val_acc\")\n",
        "plt.title(\"Training Loss and Accuracy on Dataset\")\n",
        "plt.xlabel(\"Epoch #\")\n",
        "plt.ylabel(\"Loss/Accuracy\")\n",
        "plt.legend(loc=\"lower left\")\n",
        "plt.show()\n",
        "plt.savefig(\"save.png\")"
      ],
      "execution_count": 0,
      "outputs": [
        {
          "output_type": "display_data",
          "data": {
            "image/png": "[encoded data removed]",
            "text/plain": [
              "<Figure size 432x288 with 1 Axes>"
            ]
          },
          "metadata": {
            "tags": []
          }
        },
        {
          "output_type": "display_data",
          "data": {
            "text/plain": [
              "<Figure size 432x288 with 0 Axes>"
            ]
          },
          "metadata": {
            "tags": []
          }
        }
      ]
    },
    {
      "cell_type": "code",
      "metadata": {
        "id": "AmO6xoPfcsTV",
        "colab_type": "code",
        "outputId": "7af662d8-0131-4b52-a88f-e4e386374396",
        "colab": {
          "base_uri": "https://localhost:8080/",
          "height": 34
        }
      },
      "source": [
        "!ls"
      ],
      "execution_count": 0,
      "outputs": [
        {
          "output_type": "stream",
          "text": [
            "GTSRB  GTSRB_Final_Training_Images.zip\tsample_data  signnames.csv\n"
          ],
          "name": "stdout"
        }
      ]
    },
    {
      "cell_type": "code",
      "metadata": {
        "id": "XRLvnhjORQMu",
        "colab_type": "code",
        "outputId": "36d506a3-473e-4f19-ab8a-d2ed813242d2",
        "colab": {
          "base_uri": "https://localhost:8080/",
          "height": 84
        }
      },
      "source": [
        "print(X_train.shape,X_test.shape)\n",
        "print(y_train.shape,y_test.shape)\n",
        "print(y_test)\n",
        "print(predictions.argmax(axis=1))"
      ],
      "execution_count": 0,
      "outputs": [
        {
          "output_type": "stream",
          "text": [
            "(27446, 32, 32, 3) (11763, 32, 32, 3)\n",
            "(27446,) (11763,)\n",
            "[ 2  2 10 ...  8 16 14]\n",
            "[ 2  2 10 ...  8 16 14]\n"
          ],
          "name": "stdout"
        }
      ]
    },
    {
      "cell_type": "code",
      "metadata": {
        "id": "9ZFC6OLUUOwV",
        "colab_type": "code",
        "outputId": "d5372259-2db5-4bf1-96a1-709093c3fb3c",
        "colab": {
          "base_uri": "https://localhost:8080/",
          "height": 235
        }
      },
      "source": [
        ""
      ],
      "execution_count": 0,
      "outputs": [
        {
          "output_type": "stream",
          "text": [
            "Collecting gputil\n",
            "  Downloading https://files.pythonhosted.org/packages/ed/0e/5c61eedde9f6c87713e89d794f01e378cfd9565847d4576fa627d758c554/GPUtil-1.4.0.tar.gz\n",
            "Building wheels for collected packages: gputil\n",
            "  Building wheel for gputil (setup.py) ... \u001b[?25l\u001b[?25hdone\n",
            "  Created wheel for gputil: filename=GPUtil-1.4.0-cp36-none-any.whl size=7413 sha256=3b25a17b52b9a506363477dfc330f20f4eb30d1e1c09dc5a640a993f0180b933\n",
            "  Stored in directory: /root/.cache/pip/wheels/3d/77/07/80562de4bb0786e5ea186911a2c831fdd0018bda69beab71fd\n",
            "Successfully built gputil\n",
            "Installing collected packages: gputil\n",
            "Successfully installed gputil-1.4.0\n",
            "Requirement already satisfied: psutil in /usr/local/lib/python3.6/dist-packages (5.4.8)\n",
            "Requirement already satisfied: humanize in /usr/local/lib/python3.6/dist-packages (0.5.1)\n",
            "Gen RAM Free: 11.3 GB  | Proc size: 2.7 GB\n",
            "GPU RAM Free: 16280MB | Used: 0MB | Util   0% | Total 16280MB\n"
          ],
          "name": "stdout"
        }
      ]
    },
    {
      "cell_type": "code",
      "metadata": {
        "id": "cMrhXqKonG7Q",
        "colab_type": "code",
        "outputId": "13b12692-65bc-42c6-db25-07415193b9f0",
        "colab": {
          "base_uri": "https://localhost:8080/",
          "height": 305
        }
      },
      "source": [
        "import cv2\n",
        "from google.colab.patches import cv2_imshow\n",
        "cv2_imshow(cv2.imread(\"/content/save.png\"))"
      ],
      "execution_count": 0,
      "outputs": [
        {
          "output_type": "display_data",
          "data": {
            "image/png": "[encoded data removed]",
            "text/plain": [
              "<PIL.Image.Image image mode=RGB size=432x288 at 0x7F4CBB549CC0>"
            ]
          },
          "metadata": {
            "tags": []
          }
        }
      ]
    },
    {
      "cell_type": "code",
      "metadata": {
        "id": "P3jNr_KQZc7Y",
        "colab_type": "code",
        "outputId": "5e0f40e8-ab38-4c57-ce9c-f059468b7a81",
        "colab": {
          "base_uri": "https://localhost:8080/",
          "height": 202
        }
      },
      "source": [
        "!wget \"https://sid.erda.dk/public/archives/daaeac0d7ce1152aea9b61d9f1e19370/GTSRB_Online-Test-Images-Sorted.zip\"\n",
        "!unzip -q GTSRB_Online-Test-Images-Sorted.zip"
      ],
      "execution_count": 0,
      "outputs": [
        {
          "output_type": "stream",
          "text": [
            "--2020-02-17 09:25:44--  https://sid.erda.dk/public/archives/daaeac0d7ce1152aea9b61d9f1e19370/GTSRB_Online-Test-Images-Sorted.zip\n",
            "Resolving sid.erda.dk (sid.erda.dk)... 130.225.104.13\n",
            "Connecting to sid.erda.dk (sid.erda.dk)|130.225.104.13|:443... connected.\n",
            "HTTP request sent, awaiting response... 200 OK\n",
            "Length: 88234254 (84M) [application/zip]\n",
            "Saving to: ‘GTSRB_Online-Test-Images-Sorted.zip’\n",
            "\n",
            "GTSRB_Online-Test-I 100%[===================>]  84.15M  18.6MB/s    in 5.7s    \n",
            "\n",
            "2020-02-17 09:25:50 (14.8 MB/s) - ‘GTSRB_Online-Test-Images-Sorted.zip’ saved [88234254/88234254]\n",
            "\n"
          ],
          "name": "stdout"
        }
      ]
    },
    {
      "cell_type": "code",
      "metadata": {
        "id": "mzW1rXcyeQ-m",
        "colab_type": "code",
        "outputId": "71232fce-7349-4890-9f3b-ea9d47065be8",
        "colab": {
          "base_uri": "https://localhost:8080/",
          "height": 54
        }
      },
      "source": [
        "#testing on GTSRB_Online-Test-Images-Sorted.zip dataset \n",
        "list2=[]\n",
        "with open(\"/content/train_folders.txt\") as file:\n",
        "  string = file.read()\n",
        "  list2=string.strip().split(\"\\n\")\n",
        "\n",
        "\n",
        "  \n",
        "print(list2)\n",
        "X_Test_data,Y_Test_data = load_split('/content/GTSRB/Online-Test-sort',list2)\n",
        "\n",
        "X_Test_data,Y_Test_data = shuffle(X_Test_data,Y_Test_data)\n",
        "X_Test_data,Y_Test_data = shuffle(X_Test_data,Y_Test_data)\n",
        "\n",
        "X_Test_data = X_Test_data.astype(\"float32\") / 255.0\n"
      ],
      "execution_count": 0,
      "outputs": [
        {
          "output_type": "stream",
          "text": [
            "['00000', '00001', '00002', '00003', '00004', '00005', '00006', '00007', '00008', '00009', '00010', '00011', '00012', '00013', '00014', '00015', '00016', '00017', '00018', '00019', '00020', '00021', '00022', '00023', '00024', '00025', '00026', '00027', '00028', '00029', '00030', '00031', '00032', '00033', '00034', '00035', '00036', '00037', '00038', '00039', '00040', '00041', '00042']\n"
          ],
          "name": "stdout"
        }
      ]
    },
    {
      "cell_type": "code",
      "metadata": {
        "id": "OxqtHYvBik7h",
        "colab_type": "code",
        "outputId": "858bb32a-ea91-4fbe-ef71-7dddf74a4be0",
        "colab": {
          "base_uri": "https://localhost:8080/",
          "height": 34
        }
      },
      "source": [
        "\n",
        "\n",
        "Y_Test_pred = model.predict(X_Test_data,batch_size=BS)\n",
        "cm = confusion_matrix(Y_Test_data,np.argmax(Y_Test_pred,axis=1))\n",
        "\n",
        "accuracy = np.trace(cm)/cm.sum() \n",
        "print(accuracy)\n",
        "\n",
        "\n",
        "# Since  the model trained only for  30 epochs we get 95% accuracy \n",
        "#for increased accuracy try to train model  for more epochs"
      ],
      "execution_count": 0,
      "outputs": [
        {
          "output_type": "stream",
          "text": [
            "0.957673641498926\n"
          ],
          "name": "stdout"
        }
      ]
    }
  ]
}